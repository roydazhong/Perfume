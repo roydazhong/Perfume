{
 "cells": [
  {
   "cell_type": "code",
   "execution_count": 1,
   "metadata": {},
   "outputs": [],
   "source": [
    "import pandas as pd"
   ]
  },
  {
   "cell_type": "code",
   "execution_count": 4,
   "metadata": {},
   "outputs": [],
   "source": [
    "##load the data\n",
    "df = pd.read_csv(\"CSVFile_2019-01-23T18_06_44.csv\")"
   ]
  },
  {
   "cell_type": "code",
   "execution_count": 5,
   "metadata": {},
   "outputs": [
    {
     "data": {
      "text/html": [
       "<div>\n",
       "<style scoped>\n",
       "    .dataframe tbody tr th:only-of-type {\n",
       "        vertical-align: middle;\n",
       "    }\n",
       "\n",
       "    .dataframe tbody tr th {\n",
       "        vertical-align: top;\n",
       "    }\n",
       "\n",
       "    .dataframe thead th {\n",
       "        text-align: right;\n",
       "    }\n",
       "</style>\n",
       "<table border=\"1\" class=\"dataframe\">\n",
       "  <thead>\n",
       "    <tr style=\"text-align: right;\">\n",
       "      <th></th>\n",
       "      <th>TXD_Date</th>\n",
       "      <th>CounterName</th>\n",
       "      <th>MemberID</th>\n",
       "      <th>Age</th>\n",
       "      <th>Sex</th>\n",
       "      <th>ClassName_1</th>\n",
       "      <th>ClassName_2</th>\n",
       "      <th>ProductName</th>\n",
       "      <th>Quantity</th>\n",
       "      <th>AmountPortion</th>\n",
       "    </tr>\n",
       "  </thead>\n",
       "  <tbody>\n",
       "    <tr>\n",
       "      <th>0</th>\n",
       "      <td>20180518</td>\n",
       "      <td>成都锦江区群光百货安娜苏彩妆专柜</td>\n",
       "      <td>0.0</td>\n",
       "      <td>0.0</td>\n",
       "      <td>NaN</td>\n",
       "      <td>安娜苏</td>\n",
       "      <td>彩妆</td>\n",
       "      <td>安娜苏星幻闪彩霜300 7.5g</td>\n",
       "      <td>1.0</td>\n",
       "      <td>188.35</td>\n",
       "    </tr>\n",
       "    <tr>\n",
       "      <th>1</th>\n",
       "      <td>20180518</td>\n",
       "      <td>南京江宁区同曦假日百货红地球彩妆</td>\n",
       "      <td>0.0</td>\n",
       "      <td>0.0</td>\n",
       "      <td>NaN</td>\n",
       "      <td>红地球</td>\n",
       "      <td>护肤</td>\n",
       "      <td>嫣妮花蜜养颜啫喱 U01 50ml</td>\n",
       "      <td>1.0</td>\n",
       "      <td>205.86</td>\n",
       "    </tr>\n",
       "    <tr>\n",
       "      <th>2</th>\n",
       "      <td>20180516</td>\n",
       "      <td>成都高新区乐天百货香水临时专柜</td>\n",
       "      <td>0.0</td>\n",
       "      <td>0.0</td>\n",
       "      <td>NaN</td>\n",
       "      <td>物料</td>\n",
       "      <td>样品</td>\n",
       "      <td>浪凡花韵香水小样板 2ml</td>\n",
       "      <td>0.0</td>\n",
       "      <td>0.00</td>\n",
       "    </tr>\n",
       "    <tr>\n",
       "      <th>3</th>\n",
       "      <td>20180516</td>\n",
       "      <td>广州市海珠区乐峰广场B1-K02香水</td>\n",
       "      <td>0.0</td>\n",
       "      <td>0.0</td>\n",
       "      <td>NaN</td>\n",
       "      <td>物料</td>\n",
       "      <td>样品</td>\n",
       "      <td>浪凡花韵香水小样板 2ml</td>\n",
       "      <td>0.0</td>\n",
       "      <td>0.00</td>\n",
       "    </tr>\n",
       "    <tr>\n",
       "      <th>4</th>\n",
       "      <td>20180516</td>\n",
       "      <td>北京大兴区王府井综合香水</td>\n",
       "      <td>0.0</td>\n",
       "      <td>0.0</td>\n",
       "      <td>NaN</td>\n",
       "      <td>普拉达</td>\n",
       "      <td>香水</td>\n",
       "      <td>普拉达花花小姐女士淡香水 80ml</td>\n",
       "      <td>1.0</td>\n",
       "      <td>1020.00</td>\n",
       "    </tr>\n",
       "  </tbody>\n",
       "</table>\n",
       "</div>"
      ],
      "text/plain": [
       "   TXD_Date         CounterName  MemberID  Age  Sex ClassName_1 ClassName_2  \\\n",
       "0  20180518    成都锦江区群光百货安娜苏彩妆专柜       0.0  0.0  NaN         安娜苏          彩妆   \n",
       "1  20180518    南京江宁区同曦假日百货红地球彩妆       0.0  0.0  NaN         红地球          护肤   \n",
       "2  20180516     成都高新区乐天百货香水临时专柜       0.0  0.0  NaN          物料          样品   \n",
       "3  20180516  广州市海珠区乐峰广场B1-K02香水       0.0  0.0  NaN          物料          样品   \n",
       "4  20180516        北京大兴区王府井综合香水       0.0  0.0  NaN         普拉达          香水   \n",
       "\n",
       "         ProductName  Quantity  AmountPortion  \n",
       "0   安娜苏星幻闪彩霜300 7.5g       1.0         188.35  \n",
       "1  嫣妮花蜜养颜啫喱 U01 50ml       1.0         205.86  \n",
       "2      浪凡花韵香水小样板 2ml       0.0           0.00  \n",
       "3      浪凡花韵香水小样板 2ml       0.0           0.00  \n",
       "4  普拉达花花小姐女士淡香水 80ml       1.0        1020.00  "
      ]
     },
     "execution_count": 5,
     "metadata": {},
     "output_type": "execute_result"
    }
   ],
   "source": [
    "df.head()"
   ]
  },
  {
   "cell_type": "code",
   "execution_count": null,
   "metadata": {},
   "outputs": [],
   "source": [
    "##clean the data:choose the data which memberid is not 0.0 and className_2 = '香水'\n"
   ]
  }
 ],
 "metadata": {
  "kernelspec": {
   "display_name": "Python 3",
   "language": "python",
   "name": "python3"
  },
  "language_info": {
   "codemirror_mode": {
    "name": "ipython",
    "version": 3
   },
   "file_extension": ".py",
   "mimetype": "text/x-python",
   "name": "python",
   "nbconvert_exporter": "python",
   "pygments_lexer": "ipython3",
   "version": "3.6.5"
  }
 },
 "nbformat": 4,
 "nbformat_minor": 2
}
