{
 "cells": [
  {
   "cell_type": "markdown",
   "metadata": {},
   "source": [
    "Business Understanding: \n",
    "Recently I was interested in what kind of people will buy a perfume and which kind of perfume is more populor.\n",
    "so i use some research to get the data from one of the biggest perfume dealer and try to find some insight."
   ]
  },
  {
   "cell_type": "markdown",
   "metadata": {},
   "source": [
    "Data Understanding:\n",
    "data is the 2018 some perfume dealer's sales data.\n",
    "inclouding the date,brand,product,amount and quantity of sales, more important, is it a member sales. "
   ]
  },
  {
   "cell_type": "markdown",
   "metadata": {},
   "source": [
    "Prepare Data: \n",
    "import the necessary library and load the data.\n",
    "i need two dataframe: all the sales and the member sales"
   ]
  },
  {
   "cell_type": "code",
   "execution_count": 3,
   "metadata": {},
   "outputs": [],
   "source": [
    "import pandas as pd\n",
    "import numpy as np\n",
    "import matplotlib.pyplot as plt\n",
    "import matplotlib as mpl"
   ]
  },
  {
   "cell_type": "code",
   "execution_count": 4,
   "metadata": {},
   "outputs": [
    {
     "data": {
      "text/html": [
       "<div>\n",
       "<style scoped>\n",
       "    .dataframe tbody tr th:only-of-type {\n",
       "        vertical-align: middle;\n",
       "    }\n",
       "\n",
       "    .dataframe tbody tr th {\n",
       "        vertical-align: top;\n",
       "    }\n",
       "\n",
       "    .dataframe thead th {\n",
       "        text-align: right;\n",
       "    }\n",
       "</style>\n",
       "<table border=\"1\" class=\"dataframe\">\n",
       "  <thead>\n",
       "    <tr style=\"text-align: right;\">\n",
       "      <th></th>\n",
       "      <th>TXD_Date</th>\n",
       "      <th>MemberID</th>\n",
       "      <th>Age</th>\n",
       "      <th>Sex</th>\n",
       "      <th>ClassName_1</th>\n",
       "      <th>ClassName_2</th>\n",
       "      <th>ProductName</th>\n",
       "      <th>Quantity</th>\n",
       "      <th>AmountPortion</th>\n",
       "    </tr>\n",
       "  </thead>\n",
       "  <tbody>\n",
       "    <tr>\n",
       "      <th>0</th>\n",
       "      <td>20180518</td>\n",
       "      <td>0.0</td>\n",
       "      <td>0.0</td>\n",
       "      <td>NaN</td>\n",
       "      <td>安娜苏</td>\n",
       "      <td>彩妆</td>\n",
       "      <td>安娜苏星幻闪彩霜300 7.5g</td>\n",
       "      <td>1</td>\n",
       "      <td>188.35</td>\n",
       "    </tr>\n",
       "    <tr>\n",
       "      <th>1</th>\n",
       "      <td>20180518</td>\n",
       "      <td>0.0</td>\n",
       "      <td>0.0</td>\n",
       "      <td>NaN</td>\n",
       "      <td>红地球</td>\n",
       "      <td>护肤</td>\n",
       "      <td>嫣妮花蜜养颜啫喱 U01 50ml</td>\n",
       "      <td>1</td>\n",
       "      <td>205.86</td>\n",
       "    </tr>\n",
       "    <tr>\n",
       "      <th>2</th>\n",
       "      <td>20180516</td>\n",
       "      <td>0.0</td>\n",
       "      <td>0.0</td>\n",
       "      <td>NaN</td>\n",
       "      <td>物料</td>\n",
       "      <td>样品</td>\n",
       "      <td>浪凡花韵香水小样板 2ml</td>\n",
       "      <td>0</td>\n",
       "      <td>0.00</td>\n",
       "    </tr>\n",
       "    <tr>\n",
       "      <th>3</th>\n",
       "      <td>20180516</td>\n",
       "      <td>0.0</td>\n",
       "      <td>0.0</td>\n",
       "      <td>NaN</td>\n",
       "      <td>物料</td>\n",
       "      <td>样品</td>\n",
       "      <td>浪凡花韵香水小样板 2ml</td>\n",
       "      <td>0</td>\n",
       "      <td>0.00</td>\n",
       "    </tr>\n",
       "    <tr>\n",
       "      <th>4</th>\n",
       "      <td>20180516</td>\n",
       "      <td>0.0</td>\n",
       "      <td>0.0</td>\n",
       "      <td>NaN</td>\n",
       "      <td>普拉达</td>\n",
       "      <td>香水</td>\n",
       "      <td>普拉达花花小姐女士淡香水 80ml</td>\n",
       "      <td>1</td>\n",
       "      <td>1020.00</td>\n",
       "    </tr>\n",
       "  </tbody>\n",
       "</table>\n",
       "</div>"
      ],
      "text/plain": [
       "   TXD_Date  MemberID  Age  Sex ClassName_1 ClassName_2        ProductName  \\\n",
       "0  20180518       0.0  0.0  NaN         安娜苏          彩妆   安娜苏星幻闪彩霜300 7.5g   \n",
       "1  20180518       0.0  0.0  NaN         红地球          护肤  嫣妮花蜜养颜啫喱 U01 50ml   \n",
       "2  20180516       0.0  0.0  NaN          物料          样品      浪凡花韵香水小样板 2ml   \n",
       "3  20180516       0.0  0.0  NaN          物料          样品      浪凡花韵香水小样板 2ml   \n",
       "4  20180516       0.0  0.0  NaN         普拉达          香水  普拉达花花小姐女士淡香水 80ml   \n",
       "\n",
       "   Quantity  AmountPortion  \n",
       "0         1         188.35  \n",
       "1         1         205.86  \n",
       "2         0           0.00  \n",
       "3         0           0.00  \n",
       "4         1        1020.00  "
      ]
     },
     "execution_count": 4,
     "metadata": {},
     "output_type": "execute_result"
    }
   ],
   "source": [
    "##load the data\n",
    "df = pd.read_csv(\"CSVFile_2019-01-23T18_06_44.csv\",encoding='GBK')\n",
    "df.head() ##all the sales"
   ]
  },
  {
   "cell_type": "code",
   "execution_count": 6,
   "metadata": {},
   "outputs": [
    {
     "data": {
      "text/html": [
       "<div>\n",
       "<style scoped>\n",
       "    .dataframe tbody tr th:only-of-type {\n",
       "        vertical-align: middle;\n",
       "    }\n",
       "\n",
       "    .dataframe tbody tr th {\n",
       "        vertical-align: top;\n",
       "    }\n",
       "\n",
       "    .dataframe thead th {\n",
       "        text-align: right;\n",
       "    }\n",
       "</style>\n",
       "<table border=\"1\" class=\"dataframe\">\n",
       "  <thead>\n",
       "    <tr style=\"text-align: right;\">\n",
       "      <th></th>\n",
       "      <th>TXD_Date</th>\n",
       "      <th>MemberID</th>\n",
       "      <th>Age</th>\n",
       "      <th>Sex</th>\n",
       "      <th>ClassName_1</th>\n",
       "      <th>ClassName_2</th>\n",
       "      <th>ProductName</th>\n",
       "      <th>Quantity</th>\n",
       "      <th>AmountPortion</th>\n",
       "    </tr>\n",
       "  </thead>\n",
       "  <tbody>\n",
       "    <tr>\n",
       "      <th>4</th>\n",
       "      <td>20180516</td>\n",
       "      <td>0.0</td>\n",
       "      <td>0.0</td>\n",
       "      <td>NaN</td>\n",
       "      <td>普拉达</td>\n",
       "      <td>香水</td>\n",
       "      <td>普拉达花花小姐女士淡香水 80ml</td>\n",
       "      <td>1</td>\n",
       "      <td>1020.0</td>\n",
       "    </tr>\n",
       "    <tr>\n",
       "      <th>5</th>\n",
       "      <td>20180516</td>\n",
       "      <td>0.0</td>\n",
       "      <td>0.0</td>\n",
       "      <td>NaN</td>\n",
       "      <td>万宝龙</td>\n",
       "      <td>香水</td>\n",
       "      <td>万宝龙荣耀之星男士淡香水 40ml</td>\n",
       "      <td>1</td>\n",
       "      <td>380.0</td>\n",
       "    </tr>\n",
       "    <tr>\n",
       "      <th>6</th>\n",
       "      <td>20180518</td>\n",
       "      <td>0.0</td>\n",
       "      <td>0.0</td>\n",
       "      <td>NaN</td>\n",
       "      <td>博柏利</td>\n",
       "      <td>香水</td>\n",
       "      <td>博柏利动感节拍女士淡香氛 30ml</td>\n",
       "      <td>1</td>\n",
       "      <td>480.0</td>\n",
       "    </tr>\n",
       "    <tr>\n",
       "      <th>7</th>\n",
       "      <td>20180518</td>\n",
       "      <td>0.0</td>\n",
       "      <td>0.0</td>\n",
       "      <td>NaN</td>\n",
       "      <td>博柏利</td>\n",
       "      <td>香水</td>\n",
       "      <td>博柏利动感节拍女士淡香氛 30ml</td>\n",
       "      <td>1</td>\n",
       "      <td>384.0</td>\n",
       "    </tr>\n",
       "    <tr>\n",
       "      <th>8</th>\n",
       "      <td>20180520</td>\n",
       "      <td>0.0</td>\n",
       "      <td>0.0</td>\n",
       "      <td>NaN</td>\n",
       "      <td>宝格丽</td>\n",
       "      <td>香水</td>\n",
       "      <td>宝格丽夜幽男士香氛 50ml</td>\n",
       "      <td>1</td>\n",
       "      <td>525.0</td>\n",
       "    </tr>\n",
       "  </tbody>\n",
       "</table>\n",
       "</div>"
      ],
      "text/plain": [
       "   TXD_Date  MemberID  Age  Sex ClassName_1 ClassName_2        ProductName  \\\n",
       "4  20180516       0.0  0.0  NaN         普拉达          香水  普拉达花花小姐女士淡香水 80ml   \n",
       "5  20180516       0.0  0.0  NaN         万宝龙          香水  万宝龙荣耀之星男士淡香水 40ml   \n",
       "6  20180518       0.0  0.0  NaN         博柏利          香水  博柏利动感节拍女士淡香氛 30ml   \n",
       "7  20180518       0.0  0.0  NaN         博柏利          香水  博柏利动感节拍女士淡香氛 30ml   \n",
       "8  20180520       0.0  0.0  NaN         宝格丽          香水     宝格丽夜幽男士香氛 50ml   \n",
       "\n",
       "   Quantity  AmountPortion  \n",
       "4         1         1020.0  \n",
       "5         1          380.0  \n",
       "6         1          480.0  \n",
       "7         1          384.0  \n",
       "8         1          525.0  "
      ]
     },
     "execution_count": 6,
     "metadata": {},
     "output_type": "execute_result"
    }
   ],
   "source": [
    "##clean the data:choose the data which className_2 = '香水'\n",
    "##df[df['MemberID'].isin([0])] 切片器运用\n",
    "\n",
    "df = df[df['ClassName_2'].isin(['香水'])]\n",
    "df = df[df['AmountPortion'] >0]\n",
    "df.head()"
   ]
  },
  {
   "cell_type": "code",
   "execution_count": 7,
   "metadata": {},
   "outputs": [
    {
     "data": {
      "text/html": [
       "<div>\n",
       "<style scoped>\n",
       "    .dataframe tbody tr th:only-of-type {\n",
       "        vertical-align: middle;\n",
       "    }\n",
       "\n",
       "    .dataframe tbody tr th {\n",
       "        vertical-align: top;\n",
       "    }\n",
       "\n",
       "    .dataframe thead th {\n",
       "        text-align: right;\n",
       "    }\n",
       "</style>\n",
       "<table border=\"1\" class=\"dataframe\">\n",
       "  <thead>\n",
       "    <tr style=\"text-align: right;\">\n",
       "      <th></th>\n",
       "      <th>TXD_Date</th>\n",
       "      <th>MemberID</th>\n",
       "      <th>Age</th>\n",
       "      <th>Quantity</th>\n",
       "      <th>AmountPortion</th>\n",
       "    </tr>\n",
       "  </thead>\n",
       "  <tbody>\n",
       "    <tr>\n",
       "      <th>count</th>\n",
       "      <td>7.375500e+04</td>\n",
       "      <td>7.375000e+04</td>\n",
       "      <td>73750.000000</td>\n",
       "      <td>73755.000000</td>\n",
       "      <td>73755.000000</td>\n",
       "    </tr>\n",
       "    <tr>\n",
       "      <th>mean</th>\n",
       "      <td>2.018060e+07</td>\n",
       "      <td>1.337725e+06</td>\n",
       "      <td>45.009125</td>\n",
       "      <td>1.095316</td>\n",
       "      <td>688.182686</td>\n",
       "    </tr>\n",
       "    <tr>\n",
       "      <th>std</th>\n",
       "      <td>3.616471e+02</td>\n",
       "      <td>6.535020e+05</td>\n",
       "      <td>37.737531</td>\n",
       "      <td>0.852856</td>\n",
       "      <td>562.543402</td>\n",
       "    </tr>\n",
       "    <tr>\n",
       "      <th>min</th>\n",
       "      <td>2.018010e+07</td>\n",
       "      <td>2.100000e+01</td>\n",
       "      <td>0.000000</td>\n",
       "      <td>1.000000</td>\n",
       "      <td>11.000000</td>\n",
       "    </tr>\n",
       "    <tr>\n",
       "      <th>25%</th>\n",
       "      <td>2.018030e+07</td>\n",
       "      <td>1.589534e+06</td>\n",
       "      <td>21.000000</td>\n",
       "      <td>1.000000</td>\n",
       "      <td>455.575000</td>\n",
       "    </tr>\n",
       "    <tr>\n",
       "      <th>50%</th>\n",
       "      <td>2.018052e+07</td>\n",
       "      <td>1.652858e+06</td>\n",
       "      <td>29.000000</td>\n",
       "      <td>1.000000</td>\n",
       "      <td>627.950000</td>\n",
       "    </tr>\n",
       "    <tr>\n",
       "      <th>75%</th>\n",
       "      <td>2.018093e+07</td>\n",
       "      <td>1.674669e+06</td>\n",
       "      <td>43.000000</td>\n",
       "      <td>1.000000</td>\n",
       "      <td>810.000000</td>\n",
       "    </tr>\n",
       "    <tr>\n",
       "      <th>max</th>\n",
       "      <td>2.018123e+07</td>\n",
       "      <td>1.903938e+06</td>\n",
       "      <td>119.000000</td>\n",
       "      <td>80.000000</td>\n",
       "      <td>45580.000000</td>\n",
       "    </tr>\n",
       "  </tbody>\n",
       "</table>\n",
       "</div>"
      ],
      "text/plain": [
       "           TXD_Date      MemberID           Age      Quantity  AmountPortion\n",
       "count  7.375500e+04  7.375000e+04  73750.000000  73755.000000   73755.000000\n",
       "mean   2.018060e+07  1.337725e+06     45.009125      1.095316     688.182686\n",
       "std    3.616471e+02  6.535020e+05     37.737531      0.852856     562.543402\n",
       "min    2.018010e+07  2.100000e+01      0.000000      1.000000      11.000000\n",
       "25%    2.018030e+07  1.589534e+06     21.000000      1.000000     455.575000\n",
       "50%    2.018052e+07  1.652858e+06     29.000000      1.000000     627.950000\n",
       "75%    2.018093e+07  1.674669e+06     43.000000      1.000000     810.000000\n",
       "max    2.018123e+07  1.903938e+06    119.000000     80.000000   45580.000000"
      ]
     },
     "execution_count": 7,
     "metadata": {},
     "output_type": "execute_result"
    }
   ],
   "source": [
    "df_member = df[~df['MemberID'].isin([0])]\n",
    "df_member.describe()##the member sales"
   ]
  },
  {
   "cell_type": "markdown",
   "metadata": {},
   "source": [
    "Data Modeling\n",
    "now i start to figure out some information for my analyst"
   ]
  },
  {
   "cell_type": "code",
   "execution_count": 8,
   "metadata": {},
   "outputs": [
    {
     "name": "stdout",
     "output_type": "stream",
     "text": [
      "<class 'pandas.core.frame.DataFrame'>\n",
      "Int64Index: 263871 entries, 4 to 920664\n",
      "Data columns (total 9 columns):\n",
      "TXD_Date         263871 non-null int64\n",
      "MemberID         263866 non-null float64\n",
      "Age              263866 non-null float64\n",
      "Sex              73750 non-null object\n",
      "ClassName_1      263871 non-null object\n",
      "ClassName_2      263871 non-null object\n",
      "ProductName      263871 non-null object\n",
      "Quantity         263871 non-null int64\n",
      "AmountPortion    263871 non-null float64\n",
      "dtypes: float64(3), int64(2), object(4)\n",
      "memory usage: 20.1+ MB\n"
     ]
    }
   ],
   "source": [
    "##describe the data\n",
    "df.describe()\n",
    "df.info()"
   ]
  },
  {
   "cell_type": "code",
   "execution_count": 9,
   "metadata": {},
   "outputs": [
    {
     "data": {
      "text/plain": [
       "263866"
      ]
     },
     "execution_count": 9,
     "metadata": {},
     "output_type": "execute_result"
    }
   ],
   "source": [
    "##判定数据总数\n",
    "df.Age.count()"
   ]
  },
  {
   "cell_type": "code",
   "execution_count": 10,
   "metadata": {},
   "outputs": [
    {
     "data": {
      "text/plain": [
       "194889381.67999798"
      ]
     },
     "execution_count": 10,
     "metadata": {},
     "output_type": "execute_result"
    }
   ],
   "source": [
    "##判定总金额\n",
    "sum(df.AmountPortion)"
   ]
  },
  {
   "cell_type": "code",
   "execution_count": 11,
   "metadata": {},
   "outputs": [
    {
     "data": {
      "text/plain": [
       "73750"
      ]
     },
     "execution_count": 11,
     "metadata": {},
     "output_type": "execute_result"
    }
   ],
   "source": [
    "df.Age[~df['MemberID'].isin([0])].count()\n",
    "##会员购买数据为73755条，占比"
   ]
  },
  {
   "cell_type": "code",
   "execution_count": 12,
   "metadata": {},
   "outputs": [
    {
     "data": {
      "text/plain": [
       "50756913.97000038"
      ]
     },
     "execution_count": 12,
     "metadata": {},
     "output_type": "execute_result"
    }
   ],
   "source": [
    "## 会员购买总金额\n",
    "sum(df.AmountPortion[~df['MemberID'].isin([0])])"
   ]
  },
  {
   "cell_type": "code",
   "execution_count": 13,
   "metadata": {},
   "outputs": [
    {
     "name": "stdout",
     "output_type": "stream",
     "text": [
      "0.27949792697808734 0.2604396069835225\n"
     ]
    }
   ],
   "source": [
    "##占比\n",
    "a=df.Age[~df['MemberID'].isin([0])].count()/df.Age.count()\n",
    "b=sum(df.AmountPortion[~df['MemberID'].isin([0])])/sum(df.AmountPortion)\n",
    "print(a,b)"
   ]
  },
  {
   "cell_type": "code",
   "execution_count": 14,
   "metadata": {},
   "outputs": [],
   "source": [
    "df_member = df_member.fillna('Unknown') ## 数据体量较少，用未知代替空值，不丢失数据"
   ]
  },
  {
   "cell_type": "code",
   "execution_count": 15,
   "metadata": {},
   "outputs": [
    {
     "data": {
      "text/plain": [
       "2.365382765145441"
      ]
     },
     "execution_count": 15,
     "metadata": {},
     "output_type": "execute_result"
    }
   ],
   "source": [
    "##用户购买次数平均\n",
    "df_member.MemberID.value_counts().mean()"
   ]
  },
  {
   "cell_type": "code",
   "execution_count": 16,
   "metadata": {},
   "outputs": [
    {
     "data": {
      "text/plain": [
       "688.1826855128518"
      ]
     },
     "execution_count": 16,
     "metadata": {},
     "output_type": "execute_result"
    }
   ],
   "source": [
    "##客单价\n",
    "df_member.AmountPortion.mean()"
   ]
  },
  {
   "cell_type": "markdown",
   "metadata": {},
   "source": [
    "Evaluate the Results\n",
    "now i will visualization the results"
   ]
  },
  {
   "cell_type": "code",
   "execution_count": 38,
   "metadata": {},
   "outputs": [],
   "source": [
    "df_bar = df_member.Age.replace([0,1,2,3,4,5,6,7,8,9,10],' 10')\n",
    "df_bar = df_bar.replace([10,11,12,13,14,15,16,17,18,19],'10~19')\n",
    "df_bar = df_bar.replace([20,21,22,23,24,25],'20~25')\n",
    "df_bar = df_bar.replace([26,27,28,29,30],'26~30')\n",
    "df_bar = df_bar.replace([31,32,33,34,35],'31~35')\n",
    "df_bar = df_bar.replace([36,37,38,39,40],'36~40')\n",
    "df_bar = df_bar.replace([40,41,42,43,44,45,46,47,48,49,50],'40~50')\n",
    "df_bar = df_bar.replace([51,52,53,54,55,56,57,58,59,60,61,62,63,64,65,66,67,68,69,70,73,75,76,78,81],'50')\n",
    "df_bar = df_bar.replace(119,'Unknown')\n",
    "df_bar = df_bar.value_counts()\n",
    "\n",
    "df_bar = df_bar.sort_index()\n"
   ]
  },
  {
   "cell_type": "code",
   "execution_count": 53,
   "metadata": {},
   "outputs": [
    {
     "data": {
      "text/plain": [
       "<BarContainer object of 9 artists>"
      ]
     },
     "execution_count": 53,
     "metadata": {},
     "output_type": "execute_result"
    },
    {
     "data": {
      "image/png": "[encoded data removed]",
      "text/plain": [
       "<Figure size 432x288 with 1 Axes>"
      ]
     },
     "metadata": {},
     "output_type": "display_data"
    }
   ],
   "source": [
    "labels   = df_bar.index.tolist()\n",
    " \n",
    "quants   = df_bar.values.tolist()\n",
    "plt.xlabel('Age')\n",
    "plt.ylabel('Members')\n",
    "plt.title('The Describation Of The Members Age')\n",
    "plt.bar(labels,quants)"
   ]
  },
  {
   "cell_type": "code",
   "execution_count": 55,
   "metadata": {},
   "outputs": [
    {
     "data": {
      "text/plain": [
       "([<matplotlib.patches.Wedge at 0x17c91fe33c8>,\n",
       "  <matplotlib.patches.Wedge at 0x17c91fe3dd8>,\n",
       "  <matplotlib.patches.Wedge at 0x17c91feb898>],\n",
       " [Text(-1.15848,-0.312915,'female'),\n",
       "  Text(1.11028,0.299641,'male'),\n",
       "  Text(0.739393,0.880794,'Unknown')],\n",
       " [Text(-0.675782,-0.182534,'80.6%'),\n",
       "  Text(0.627548,0.169362,'19.4%'),\n",
       "  Text(0.417918,0.49784,'0.0%')])"
      ]
     },
     "execution_count": 55,
     "metadata": {},
     "output_type": "execute_result"
    },
    {
     "data": {
      "image/png": "[encoded data removed]",
      "text/plain": [
       "<Figure size 432x288 with 1 Axes>"
      ]
     },
     "metadata": {},
     "output_type": "display_data"
    }
   ],
   "source": [
    "df_pie = df_member.Sex.value_counts()\n",
    "labels=['female','male','Unknown']\n",
    "explode=0.1,0.05,0.05\n",
    "plt.title('The Describation Of The Members Sex')\n",
    "plt.pie(df_pie,explode=explode,labels=labels,autopct='%1.1f%%',shadow=True,startangle=50)"
   ]
  },
  {
   "cell_type": "code",
   "execution_count": 45,
   "metadata": {},
   "outputs": [
    {
     "data": {
      "text/plain": [
       "宝格丽        17579\n",
       "范思哲        12487\n",
       "博柏利        10709\n",
       "安娜苏         7114\n",
       "普拉达         6617\n",
       "爱马仕         6565\n",
       "浪凡          5266\n",
       "蔻驰          4932\n",
       "万宝龙          905\n",
       "华伦天奴         838\n",
       "盖璞           184\n",
       "丽娜蕙姿         165\n",
       "梵克雅宝         137\n",
       "雾仙浓           58\n",
       "杜嘉班纳          54\n",
       "登喜路           46\n",
       "都彭            34\n",
       "吉米周           19\n",
       "ETERNAL       14\n",
       "杜鲁萨迪           8\n",
       "巴尔曼            6\n",
       "卡地亚            6\n",
       "博斯             6\n",
       "罗伯特卡沃利         3\n",
       "莱俪             2\n",
       "卡罗琳娜           1\n",
       "Name: ClassName_1, dtype: int64"
      ]
     },
     "execution_count": 45,
     "metadata": {},
     "output_type": "execute_result"
    }
   ],
   "source": [
    "df_pie2 = df_member.ClassName_1.value_counts()\n",
    "df_pie2"
   ]
  },
  {
   "cell_type": "code",
   "execution_count": 56,
   "metadata": {},
   "outputs": [
    {
     "data": {
      "text/plain": [
       "([<matplotlib.patches.Wedge at 0x17c9202d898>,\n",
       "  <matplotlib.patches.Wedge at 0x17c920372e8>,\n",
       "  <matplotlib.patches.Wedge at 0x17c92037d68>,\n",
       "  <matplotlib.patches.Wedge at 0x17c92040828>,\n",
       "  <matplotlib.patches.Wedge at 0x17c920482e8>,\n",
       "  <matplotlib.patches.Wedge at 0x17c92048d68>,\n",
       "  <matplotlib.patches.Wedge at 0x17c92051828>,\n",
       "  <matplotlib.patches.Wedge at 0x17c9205a2e8>,\n",
       "  <matplotlib.patches.Wedge at 0x17c9205ad68>],\n",
       " [Text(-0.0556862,1.09859,'BVLGARI'),\n",
       "  Text(-1.0686,0.260928,'versace'),\n",
       "  Text(-0.805949,-0.748629,'Burberry'),\n",
       "  Text(-0.0693455,-1.09781,'Anna Sui'),\n",
       "  Text(0.548275,-0.953622,'Prada'),\n",
       "  Text(0.971847,-0.515281,'Hermès'),\n",
       "  Text(1.09985,0.0180616,'lanvin'),\n",
       "  Text(0.990107,0.479258,'COACH'),\n",
       "  Text(0.792168,0.763197,'Others ')],\n",
       " [Text(-0.0303743,0.599231,'23.8%'),\n",
       "  Text(-0.582875,0.142324,'16.9%'),\n",
       "  Text(-0.439609,-0.408343,'14.5%'),\n",
       "  Text(-0.0378248,-0.598807,'9.6%'),\n",
       "  Text(0.299059,-0.520157,'9.0%'),\n",
       "  Text(0.530098,-0.281062,'8.9%'),\n",
       "  Text(0.599919,0.00985176,'7.1%'),\n",
       "  Text(0.540058,0.261414,'6.7%'),\n",
       "  Text(0.432092,0.416289,'3.4%')])"
      ]
     },
     "execution_count": 56,
     "metadata": {},
     "output_type": "execute_result"
    },
    {
     "data": {
      "image/png": "[encoded data removed]",
      "text/plain": [
       "<Figure size 432x288 with 1 Axes>"
      ]
     },
     "metadata": {},
     "output_type": "display_data"
    }
   ],
   "source": [
    "##为了更好地观测，进行数据清洗，将数量较少的品牌统一为others\n",
    "df_pie2 = df_member.ClassName_1.replace(\"万宝龙\",\"others\").replace(\"华伦天奴\",\"others\").replace(\"盖璞\",\"others\").replace(\"丽娜蕙姿\",\"others\").replace(\"梵克雅宝\",\"others\").replace(\"登喜路\",\"others\").replace(\"都彭\",\"others\").replace(\"吉米周\",\"others\").replace(\"ETERNAL\",\"others\").replace(\"杜鲁萨迪\",\"others\").replace(\"巴尔曼\",\"others\").replace(\"雾仙浓\",\"others\").replace(\"杜嘉班纳\",\"others\").replace(\"博斯\",\"others\").replace(\"卡地亚\",\"others\").replace(\"罗伯特卡沃利\",\"others\").replace(\"莱俪\",\"others\").replace(\"卡罗琳娜\",\"others\")\n",
    "df_pie2 =df_pie2.value_counts()\n",
    "labels = ['BVLGARI' ,'versace','Burberry','Anna Sui','Prada','Hermès','lanvin' ,'COACH','Others ']\n",
    "\n",
    "plt.title('The Describation Of The Members Favorite Brand')\n",
    "plt.pie(df_pie2,labels=labels,autopct='%1.1f%%',shadow=True,startangle=50)"
   ]
  },
  {
   "cell_type": "code",
   "execution_count": 47,
   "metadata": {},
   "outputs": [
    {
     "data": {
      "text/html": [
       "<div>\n",
       "<style scoped>\n",
       "    .dataframe tbody tr th:only-of-type {\n",
       "        vertical-align: middle;\n",
       "    }\n",
       "\n",
       "    .dataframe tbody tr th {\n",
       "        vertical-align: top;\n",
       "    }\n",
       "\n",
       "    .dataframe thead th {\n",
       "        text-align: right;\n",
       "    }\n",
       "</style>\n",
       "<table border=\"1\" class=\"dataframe\">\n",
       "  <thead>\n",
       "    <tr style=\"text-align: right;\">\n",
       "      <th></th>\n",
       "      <th>Quantity</th>\n",
       "      <th>AmountPortion</th>\n",
       "    </tr>\n",
       "    <tr>\n",
       "      <th>ProductName</th>\n",
       "      <th></th>\n",
       "      <th></th>\n",
       "    </tr>\n",
       "  </thead>\n",
       "  <tbody>\n",
       "    <tr>\n",
       "      <th>宝格丽碧蓝男士淡香水套装（淡香水100ml+洗</th>\n",
       "      <td>1616</td>\n",
       "      <td>1219620.82</td>\n",
       "    </tr>\n",
       "    <tr>\n",
       "      <th>安娜苏筑梦天马淡香水 50ml</th>\n",
       "      <td>1544</td>\n",
       "      <td>776229.25</td>\n",
       "    </tr>\n",
       "    <tr>\n",
       "      <th>浪凡光韵女士浓香水 100ml</th>\n",
       "      <td>910</td>\n",
       "      <td>649006.95</td>\n",
       "    </tr>\n",
       "    <tr>\n",
       "      <th>范思哲晶钻女士香水 90ml</th>\n",
       "      <td>989</td>\n",
       "      <td>638132.30</td>\n",
       "    </tr>\n",
       "    <tr>\n",
       "      <th>宝格丽晶莹女士淡香水套装（淡香水40ml+身</th>\n",
       "      <td>1072</td>\n",
       "      <td>623703.28</td>\n",
       "    </tr>\n",
       "  </tbody>\n",
       "</table>\n",
       "</div>"
      ],
      "text/plain": [
       "                         Quantity  AmountPortion\n",
       "ProductName                                     \n",
       "宝格丽碧蓝男士淡香水套装（淡香水100ml+洗      1616     1219620.82\n",
       "安娜苏筑梦天马淡香水 50ml              1544      776229.25\n",
       "浪凡光韵女士浓香水 100ml               910      649006.95\n",
       "范思哲晶钻女士香水 90ml                989      638132.30\n",
       "宝格丽晶莹女士淡香水套装（淡香水40ml+身       1072      623703.28"
      ]
     },
     "execution_count": 47,
     "metadata": {},
     "output_type": "execute_result"
    }
   ],
   "source": [
    "col_n = ['ProductName','Quantity','AmountPortion']\n",
    "a = pd.DataFrame(df_member,columns = col_n)\n",
    "a1=a.groupby(['ProductName']).sum()\n",
    "a1 = pd.DataFrame(a1)\n",
    "a1.sort_values(by = ['AmountPortion','Quantity'],ascending= False).head()"
   ]
  },
  {
   "cell_type": "code",
   "execution_count": null,
   "metadata": {},
   "outputs": [],
   "source": []
  },
  {
   "cell_type": "code",
   "execution_count": null,
   "metadata": {},
   "outputs": [],
   "source": []
  }
 ],
 "metadata": {
  "kernelspec": {
   "display_name": "Python 3",
   "language": "python",
   "name": "python3"
  },
  "language_info": {
   "codemirror_mode": {
    "name": "ipython",
    "version": 3
   },
   "file_extension": ".py",
   "mimetype": "text/x-python",
   "name": "python",
   "nbconvert_exporter": "python",
   "pygments_lexer": "ipython3",
   "version": "3.6.5"
  }
 },
 "nbformat": 4,
 "nbformat_minor": 2
}
